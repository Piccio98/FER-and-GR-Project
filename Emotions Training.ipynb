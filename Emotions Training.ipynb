{
 "cells": [
  {
   "cell_type": "code",
   "execution_count": null,
   "metadata": {},
   "outputs": [],
   "source": [
    "import numpy as np \n",
    "import os\n",
    "import cv2\n",
    "import tensorflow as tf\n",
    "import matplotlib.pyplot as plt\n",
    "from tensorflow import keras\n",
    "from tensorflow.keras import layers\n",
    "from tensorflow.keras.models import Sequential\n",
    "from keras.preprocessing import image\n",
    "import gdown\n",
    "from sklearn.metrics import confusion_matrix, classification_report\n",
    "import pandas as pd\n",
    "import seaborn as sns"
   ]
  },
  {
   "cell_type": "code",
   "execution_count": null,
   "metadata": {},
   "outputs": [],
   "source": [
    "file_path = \"test.zip\"\n",
    "output = file_path\n",
    "\n",
    "if not os.path.exists(\"Face Emotions Images/\"):\n",
    "    gdown.download(\"https://drive.google.com/uc?id=1QK-WIVObJWHtdQfoigVCpbaY6YYaZIPk\", file_path)\n",
    "    gdown.extractall(file_path)\n",
    "    if os.path.exists(file_path):\n",
    "        os.remove(file_path)"
   ]
  },
  {
   "cell_type": "code",
   "execution_count": null,
   "metadata": {},
   "outputs": [],
   "source": [
    "#Data augmentation for disgust category\n",
    "#import imutils\n",
    "\n",
    "#db_path = \"Face Emotions Images/disgust/\"\n",
    "#for n in range(len(disgust)):\n",
    "#    cv2.imwrite(\"C:/Users/Nicho/OneDrive/Desktop/UNI/MAGISTRALE/Visione Artificiale/FER-and-GR-Project/Face Emotions Images/disgust/d{}.png\".format(n),cv2.flip(disgust[n],1))\n",
    "\n",
    "#for n in range(len(disgust)):\n",
    "#    cv2.imwrite(\"C:/Users/Nicho/OneDrive/Desktop/UNI/MAGISTRALE/Visione Artificiale/FER-and-GR-Project/Face Emotions Images/disgust/rl{}.png\".format(n),imutils.rotate(disgust[10], angle=20))\n",
    "\n",
    "#for n in range(len(disgust)):\n",
    "#    cv2.imwrite(\"C:/Users/Nicho/OneDrive/Desktop/UNI/MAGISTRALE/Visione Artificiale/FER-and-GR-Project/Face Emotions Images/disgust/rr{}.png\".format(n),imutils.rotate(disgust[10], angle=-20))\n"
   ]
  },
  {
   "cell_type": "code",
   "execution_count": null,
   "metadata": {},
   "outputs": [],
   "source": [
    "db_path = \"Face Emotions Images/\"\n",
    "batch_size = 64\n",
    "num_classes = 7\n",
    "img_height = 224\n",
    "img_width = 224"
   ]
  },
  {
   "cell_type": "code",
   "execution_count": null,
   "metadata": {},
   "outputs": [],
   "source": [
    "train_ds = tf.keras.preprocessing.image_dataset_from_directory(db_path,\n",
    "                                                               validation_split=0.20,\n",
    "                                                               subset=\"training\",\n",
    "                                                               seed=123456,\n",
    "                                                               label_mode = 'int',\n",
    "                                                               color_mode='grayscale',\n",
    "                                                               image_size=(img_height, img_width),\n",
    "                                                               batch_size=batch_size)\n",
    "\n",
    "val_ds = tf.keras.preprocessing.image_dataset_from_directory(db_path,\n",
    "                                                               validation_split=0.20,\n",
    "                                                               subset=\"validation\",\n",
    "                                                               seed=123456,\n",
    "                                                               label_mode = 'int',\n",
    "                                                               color_mode='grayscale',\n",
    "                                                               image_size=(img_height, img_width),\n",
    "                                                               batch_size=batch_size)\n"
   ]
  },
  {
   "cell_type": "code",
   "execution_count": null,
   "metadata": {},
   "outputs": [],
   "source": [
    "class_names = train_ds.class_names\n",
    "plt.figure(figsize=(10, 10))\n",
    "for images, labels in train_ds.take(1):\n",
    "    for i in range(9):\n",
    "        ax = plt.subplot(3, 3, i + 1)\n",
    "        ax.imshow(images[i].numpy().astype(\"uint8\")[:,:,0], cmap='gray')\n",
    "        plt.title(class_names[labels[i]])\n",
    "        plt.axis(\"off\")"
   ]
  },
  {
   "cell_type": "code",
   "execution_count": null,
   "metadata": {},
   "outputs": [],
   "source": [
    "# Build the Model\n",
    "\n",
    "model = Sequential([\n",
    "                  layers.experimental.preprocessing.Rescaling(1./255, input_shape=(img_height, img_width,1)),\n",
    "                  layers.Conv2D(32, 3, padding='same', activation='relu'),\n",
    "                  layers.MaxPooling2D(),\n",
    "                  layers.Conv2D(64, 3, padding='same', activation='relu'),\n",
    "                  layers.MaxPooling2D(),\n",
    "                  layers.Conv2D(128, 3, padding='same', activation='relu'),\n",
    "                  layers.MaxPooling2D(),\n",
    "                  layers.Dropout(0.2),\n",
    "                  layers.Conv2D(256, 3, padding='same', activation='relu'),\n",
    "                  layers.MaxPooling2D(),\n",
    "                  layers.Dropout(0.2),\n",
    "                  layers.Conv2D(512, 3, padding='same', activation='relu'),\n",
    "                  layers.MaxPooling2D(),\n",
    "                  layers.Dropout(0.2),\n",
    "                  layers.Flatten(),\n",
    "                  layers.Dense(256, activation='relu'),\n",
    "                  layers.Dropout(0.2),  \n",
    "                  layers.Dense(128, activation = 'relu'),\n",
    "                  layers.Dropout(0.2),\n",
    "                  layers.Dense(num_classes, activation = 'sigmoid')\n",
    "])\n",
    "\n",
    "model.compile(optimizer='adam',\n",
    "              loss=tf.keras.losses.SparseCategoricalCrossentropy(),\n",
    "              metrics=['accuracy'])\n",
    "\n",
    "early_stopping = tf.keras.callbacks.EarlyStopping(monitor='val_loss',\n",
    "                                                  patience=5,\n",
    "                                                  mode='auto',\n",
    "                                                  restore_best_weights=True\n",
    "                                                 )\n",
    "model.summary()"
   ]
  },
  {
   "cell_type": "code",
   "execution_count": null,
   "metadata": {
    "scrolled": false
   },
   "outputs": [],
   "source": [
    "epochs = 50\n",
    "history = model.fit(train_ds, validation_data = val_ds, epochs = epochs, batch_size = batch_size, \n",
    "                    verbose = 2, callbacks=[early_stopping])"
   ]
  },
  {
   "cell_type": "code",
   "execution_count": null,
   "metadata": {
    "scrolled": true
   },
   "outputs": [],
   "source": [
    "model_acc = model.evaluate(val_ds)[1]\n",
    "model_acc"
   ]
  },
  {
   "cell_type": "code",
   "execution_count": null,
   "metadata": {
    "scrolled": true
   },
   "outputs": [],
   "source": [
    "model.save(\"Emotions Model\")"
   ]
  },
  {
   "cell_type": "code",
   "execution_count": null,
   "metadata": {},
   "outputs": [],
   "source": [
    "#Load the Gender Model\n",
    "if not os.path.exists(\"Gender Model/\"):\n",
    "    gdown.download(\"https://drive.google.com/uc?id=1easVnhBN9o1s60_eAyl8CGj_LHuPoXgc\", file_path)\n",
    "    gdown.extractall(file_path)\n",
    "    if os.path.exists(file_path):\n",
    "        os.remove(file_path)\n",
    "gender_model = keras.models.load_model('Gender Model/')\n",
    "\n",
    "emotions_model = keras.models.load_model('Emotions Model/')\n",
    "testData = tf.keras.preprocessing.image_dataset_from_directory(\n",
    "    \"Test Set/Emotions\",\n",
    "    labels='inferred',\n",
    "    label_mode='categorical',\n",
    "    color_mode='grayscale',\n",
    "    seed=123456,\n",
    "    image_size=(img_height,img_width),\n",
    "    batch_size=1000)\n",
    "\n",
    "\n",
    "predictions = np.array([])\n",
    "labels =  np.array([])\n",
    "for x, y in testData:\n",
    "    predictions = np.concatenate([predictions, np.argmax(emotions_model.predict(x), axis = -1)])\n",
    "    labels = np.concatenate([labels, np.argmax(y.numpy(), axis=-1)])"
   ]
  },
  {
   "cell_type": "code",
   "execution_count": null,
   "metadata": {
    "scrolled": false
   },
   "outputs": [],
   "source": [
    "cm_data = confusion_matrix(labels , predictions)\n",
    "cm = pd.DataFrame(cm_data, columns=class_names, index = class_names)\n",
    "cm.index.name = 'Actual'\n",
    "cm.columns.name = 'Predicted'\n",
    "plt.figure(figsize = (20,10))\n",
    "plt.title('Confusion Matrix', fontsize = 20)\n",
    "sns.set(font_scale=1.2)\n",
    "ax = sns.heatmap(cm, cbar=False, cmap=\"Blues\", annot=True, annot_kws={\"size\": 16}, fmt='g')"
   ]
  },
  {
   "cell_type": "code",
   "execution_count": null,
   "metadata": {},
   "outputs": [],
   "source": [
    "print(classification_report(labels, predictions))"
   ]
  }
 ],
 "metadata": {
  "kernelspec": {
   "display_name": "Python 3 (ipykernel)",
   "language": "python",
   "name": "python3"
  },
  "language_info": {
   "codemirror_mode": {
    "name": "ipython",
    "version": 3
   },
   "file_extension": ".py",
   "mimetype": "text/x-python",
   "name": "python",
   "nbconvert_exporter": "python",
   "pygments_lexer": "ipython3",
   "version": "3.9.13"
  }
 },
 "nbformat": 4,
 "nbformat_minor": 2
}
