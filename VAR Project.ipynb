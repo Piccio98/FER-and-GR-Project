{
 "cells": [
  {
   "cell_type": "code",
   "execution_count": 5,
   "metadata": {},
   "outputs": [],
   "source": [
    "import numpy as np \n",
    "import os\n",
    "import cv2\n",
    "import tensorflow as tf\n",
    "import matplotlib.pyplot as plt\n",
    "from tensorflow import keras\n",
    "from tensorflow.keras import layers\n",
    "from tensorflow.keras.models import Sequential\n",
    "from keras.preprocessing import image\n",
    "import gdown\n",
    "import glob"
   ]
  },
  {
   "cell_type": "code",
   "execution_count": 3,
   "metadata": {},
   "outputs": [],
   "source": [
    "file_path = \"test.zip\"\n",
    "output = file_path\n",
    "if not os.path.exists(\"Test Set/\"):\n",
    "    gdown.download(\"https://drive.google.com/uc?id=1W94tVozlrHMY_SWE-45TvWT5PqQjElxc\", file_path)\n",
    "    gdown.extractall(file_path)\n",
    "    if os.path.exists(file_path):\n",
    "        os.remove(file_path)"
   ]
  },
  {
   "cell_type": "code",
   "execution_count": 18,
   "metadata": {},
   "outputs": [],
   "source": [
    "gender_img_height = 378\n",
    "gender_img_width = 378\n",
    "emotions_img_height = 224\n",
    "emotions_img_width = 224\n",
    "gender_class_names = [\"Man\", \"Woman\"]\n",
    "emotions_class_names = [\"Angry\", \"Disgust\", \"Fear\", \"Happy\", \"Neutral\", \"Sad\", \"Surprise\"]"
   ]
  },
  {
   "cell_type": "code",
   "execution_count": 16,
   "metadata": {
    "scrolled": true
   },
   "outputs": [
    {
     "name": "stderr",
     "output_type": "stream",
     "text": [
      "Downloading...\n",
      "From: https://drive.google.com/uc?id=1easVnhBN9o1s60_eAyl8CGj_LHuPoXgc\n",
      "To: C:\\Users\\Nicho\\OneDrive\\Desktop\\UNI\\MAGISTRALE\\Visione Artificiale\\FER-and-GR-Project\\test.zip\n",
      "100%|██████████| 144M/144M [00:30<00:00, 4.64MB/s] \n"
     ]
    }
   ],
   "source": [
    "#Load the Model\n",
    "file_path = \"test.zip\"\n",
    "if not os.path.exists(\"Gender Model/\"):\n",
    "    gdown.download(\"https://drive.google.com/uc?id=1easVnhBN9o1s60_eAyl8CGj_LHuPoXgc\", file_path)\n",
    "    gdown.extractall(file_path)\n",
    "    if os.path.exists(file_path):\n",
    "        os.remove(file_path)\n",
    "genderModel = keras.models.load_model('Gender Model/')\n",
    "\n",
    "#Load the Model\n",
    "file_path = \"test.zip\"\n",
    "if not os.path.exists(\"Emotions Model/\"):\n",
    "    gdown.download(\"https://drive.google.com/uc?id=1zwwyyd0CZZBDOYt6vSliejyq7NrGbRsT\", file_path)\n",
    "    gdown.extractall(file_path)\n",
    "    if os.path.exists(file_path):\n",
    "        os.remove(file_path)\n",
    "emotionsModel = keras.models.load_model('Emotions Model/')"
   ]
  },
  {
   "cell_type": "code",
   "execution_count": 30,
   "metadata": {},
   "outputs": [],
   "source": [
    "def prepare_img(img):\n",
    "    x = image.img_to_array(img)\n",
    "    x = np.expand_dims(x, axis=0)\n",
    "    images = np.vstack([x])\n",
    "    return images"
   ]
  },
  {
   "cell_type": "code",
   "execution_count": 33,
   "metadata": {
    "scrolled": false
   },
   "outputs": [
    {
     "name": "stdout",
     "output_type": "stream",
     "text": [
      "Woman 'Happy': 0.99999905, 'Neutral': 0.99843556, 'Surprise': 0.95944947\n"
     ]
    },
    {
     "data": {
      "text/plain": [
       "<matplotlib.image.AxesImage at 0x16395161848>"
      ]
     },
     "execution_count": 33,
     "metadata": {},
     "output_type": "execute_result"
    },
    {
     "data": {
      "image/png": "[encoded data removed]",
      "text/plain": [
       "<Figure size 432x288 with 1 Axes>"
      ]
     },
     "metadata": {
      "needs_background": "light"
     },
     "output_type": "display_data"
    }
   ],
   "source": [
    "## Load and Predict an image\n",
    "img = image.load_img(\"Test Set/240.png\", color_mode = \"grayscale\")\n",
    "\n",
    "gender_img = cv2.resize(np.float32(img), (gender_img_height, gender_img_width))\n",
    "gender_classes = genderModel.predict(prepare_img(gender_img))\n",
    "\n",
    "emotions_image = cv2.resize(np.float32(img), (emotions_img_height, emotions_img_width))\n",
    "emotions_classes = emotionsModel.predict(prepare_img(emotions_image))\n",
    "\n",
    "index = list(np.where(np.where(emotions_classes > 0.8, 1, 0)[0] == 1)[0])\n",
    "dictionary = dict()\n",
    "sorted_dict = dict()\n",
    "for i in index:\n",
    "    dictionary[emotions_class_names[i]] = emotions_classes[0][i]\n",
    "sorted_keys = sorted(dictionary, key=dictionary.get, reverse=True)\n",
    "for w in sorted_keys:\n",
    "    sorted_dict[w] = dictionary[w]\n",
    "    \n",
    "print(gender_class_names[np.where(gender_classes > 0.5, 1,0)[0][1]] + \" \" + str(sorted_dict)[1:-1])\n",
    "plt.imshow(img, cmap=\"gray\")"
   ]
  },
  {
   "cell_type": "code",
   "execution_count": 103,
   "metadata": {},
   "outputs": [
    {
     "name": "stdout",
     "output_type": "stream",
     "text": [
      "'neutral': 0.9950932, 'sad': 0.93254375, 'happy': 0.91222495\n",
      "'sad': 0.9877021, 'neutral': 0.9676931, 'angry': 0.872703\n",
      "'happy': 0.99999034, 'neutral': 0.9950665\n",
      "'happy': 0.999928, 'neutral': 0.9504006\n",
      "'neutral': 0.99826235, 'sad': 0.9956103\n",
      "'sad': 0.99955946, 'neutral': 0.99725854, 'angry': 0.96075624\n",
      "'sad': 0.9994784, 'neutral': 0.99687105, 'angry': 0.96109873\n",
      "'happy': 0.9991685\n",
      "'happy': 0.99983513\n",
      "'sad': 0.9955244, 'neutral': 0.994852, 'happy': 0.8056373\n",
      "'sad': 0.99634105, 'neutral': 0.9923603\n",
      "'neutral': 0.9919809, 'sad': 0.97264206, 'happy': 0.9435033\n",
      "'neutral': 0.9960608, 'sad': 0.9954218, 'happy': 0.8074505\n",
      "'happy': 0.9987452\n",
      "'happy': 0.9952598\n",
      "\n",
      "\n",
      "'happy': 0.9475378\n",
      "'happy': 0.9994112, 'angry': 0.91147256\n",
      "'angry': 0.956739, 'fear': 0.9159893, 'happy': 0.8664384\n",
      "'happy': 0.99278545, 'angry': 0.92880726\n",
      "'angry': 0.9881903, 'fear': 0.9521343, 'happy': 0.8050388\n",
      "'angry': 0.9861394, 'fear': 0.9642924\n",
      "'neutral': 0.9930992, 'sad': 0.98017657\n",
      "'happy': 0.98644024, 'neutral': 0.95864207, 'sad': 0.8328359\n"
     ]
    }
   ],
   "source": [
    "cap = cv2.VideoCapture(0)\n",
    "\n",
    "if (cap.isOpened() == False): \n",
    "    print(\"Unable to read camera feed\")\n",
    "\n",
    "frame_width = int(cap.get(3))\n",
    "frame_height = int(cap.get(4))\n",
    "skip_frames = 30\n",
    "cur_frames = 0\n",
    "\n",
    "face_cascade = cv2.CascadeClassifier('haarcascade_frontalface_default.xml')\n",
    "\n",
    "#out = cv2.VideoWriter('outpy.avi',cv2.VideoWriter_fourcc('M','J','P','G'), 10, (frame_width,frame_height))\n",
    " \n",
    "while(True):\n",
    "    ret, frame = cap.read()\n",
    "    \n",
    "    if ret == True:\n",
    "        process_frame = cur_frames % skip_frames == 0\n",
    "        gray = cv2.cvtColor(frame, cv2.COLOR_RGB2GRAY)\n",
    "        faces = face_cascade.detectMultiScale(gray, 1.1, 4)\n",
    "        for (x, y, w, h) in faces:\n",
    "            cv2.rectangle(frame, (x, y), (x+w, y+h), (0, 255, 0), 5)\n",
    "        if process_frame:\n",
    "            resized = cv2.resize(gray[y:y+h, x:x+w], (img_height,img_width))\n",
    "            x = image.img_to_array(resized)\n",
    "            x = np.expand_dims(x, axis=0)\n",
    "            images = np.vstack([x])\n",
    "            classes = model.predict(images)\n",
    "            dictionary = dict()\n",
    "            sorted_dict = dict()\n",
    "            index = list(np.where(np.where(classes > 0.8, 1, 0)[0] == 1)[0])\n",
    "            for i in index:\n",
    "                dictionary[class_names[i]] = classes[0][i]\n",
    "            sorted_keys = sorted(dictionary, key=dictionary.get, reverse=True)\n",
    "            for w in sorted_keys:\n",
    "                sorted_dict[w] = dictionary[w]\n",
    "            print(str(sorted_dict)[1:-1])\n",
    "            cv2.imshow('frame', frame)\n",
    "            cur_frames += 1\n",
    "        else:\n",
    "            cv2.imshow('frame', frame)\n",
    "            cur_frames += 1\n",
    "        #out.write(frame)\n",
    "        \n",
    "        \n",
    "        if cv2.waitKey(1) & 0xFF == ord('q'):\n",
    "            break\n",
    "    else:\n",
    "        break \n",
    "\n",
    "cap.release()\n",
    "#out.release()\n",
    " \n",
    "# Closes all the frames\n",
    "cv2.destroyAllWindows()"
   ]
  }
 ],
 "metadata": {
  "kernelspec": {
   "display_name": "Python 3",
   "language": "python",
   "name": "python3"
  },
  "language_info": {
   "codemirror_mode": {
    "name": "ipython",
    "version": 3
   },
   "file_extension": ".py",
   "mimetype": "text/x-python",
   "name": "python",
   "nbconvert_exporter": "python",
   "pygments_lexer": "ipython3",
   "version": "3.7.4"
  }
 },
 "nbformat": 4,
 "nbformat_minor": 2
}
